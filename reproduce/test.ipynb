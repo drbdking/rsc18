{
 "cells": [
  {
   "cell_type": "code",
   "execution_count": 41,
   "metadata": {},
   "outputs": [
    {
     "data": {
      "text/plain": [
       "(None, None)"
      ]
     },
     "execution_count": 41,
     "metadata": {},
     "output_type": "execute_result"
    }
   ],
   "source": [
    "import pyximport\n",
    "pyximport.install()"
   ]
  },
  {
   "cell_type": "code",
   "execution_count": 42,
   "metadata": {},
   "outputs": [
    {
     "name": "stdout",
     "output_type": "stream",
     "text": [
      "The line_profiler extension is already loaded. To reload it, use:\n",
      "  %reload_ext line_profiler\n"
     ]
    }
   ],
   "source": [
    "%load_ext line_profiler"
   ]
  },
  {
   "cell_type": "code",
   "execution_count": 43,
   "metadata": {},
   "outputs": [],
   "source": [
    "import utils\n",
    "import utils_opt\n",
    "import sknn_opt\n",
    "import sknn \n",
    "import pandas as pd\n",
    "import numpy as np"
   ]
  },
  {
   "cell_type": "code",
   "execution_count": 44,
   "metadata": {},
   "outputs": [],
   "source": [
    "FOLDER_TRAIN = 'data/train/short_ver/'\n",
    "FOLDER_TEST = 'data/test/'\n",
    "OUTPUT_FOLDER = 'output/'"
   ]
  },
  {
   "cell_type": "code",
   "execution_count": 62,
   "metadata": {
    "tags": []
   },
   "outputs": [
    {
     "name": "stdout",
     "output_type": "stream",
     "text": [
      "load_dataset\n",
      " -- loaded in: 0.3066082000732422s\n",
      " -- filtered in: 0.40578508377075195s\n",
      " -- actions:  664712\n",
      " -- items:  170089\n",
      " -- lists:  10000\n",
      "CPU times: user 339 ms, sys: 97.3 ms, total: 437 ms\n",
      "Wall time: 462 ms\n"
     ]
    }
   ],
   "source": [
    "%time train, test = utils.load_dataset(FOLDER_TRAIN, FOLDER_TEST, feather=True)"
   ]
  },
  {
   "cell_type": "code",
   "execution_count": 61,
   "metadata": {},
   "outputs": [],
   "source": [
    "rec = sknn.SessionKNN(2000, 0, idf_weight=1, folder=OUTPUT_FOLDER)"
   ]
  },
  {
   "cell_type": "code",
   "execution_count": 47,
   "metadata": {},
   "outputs": [
    {
     "name": "stdout",
     "output_type": "stream",
     "text": [
      "CPU times: user 444 ms, sys: 57.9 ms, total: 501 ms\n",
      "Wall time: 501 ms\n"
     ]
    }
   ],
   "source": [
    "%time rec.train(train, test)"
   ]
  },
  {
   "cell_type": "code",
   "execution_count": 48,
   "metadata": {},
   "outputs": [],
   "source": [
    "test_data = list(zip(test['playlists']['playlist_id'], test['playlists']['name'], \n",
    "                     test['playlists']['num_tracks'], test['playlists']['num_samples']))\n",
    "pid, name, ntracks, nsamples = test_data[5000]\n",
    "num_hidden = ntracks - nsamples"
   ]
  },
  {
   "cell_type": "code",
   "execution_count": 49,
   "metadata": {},
   "outputs": [],
   "source": [
    "tracks = test['actions'][test['actions']['playlist_id']==pid]['track_id'].values\n",
    "artist_ids = test['actions'][test['actions']['playlist_id']==pid]['artist_id'].values"
   ]
  },
  {
   "cell_type": "code",
   "execution_count": 50,
   "metadata": {},
   "outputs": [
    {
     "data": {
      "text/html": [
       "<div>\n",
       "<style scoped>\n",
       "    .dataframe tbody tr th:only-of-type {\n",
       "        vertical-align: middle;\n",
       "    }\n",
       "\n",
       "    .dataframe tbody tr th {\n",
       "        vertical-align: top;\n",
       "    }\n",
       "\n",
       "    .dataframe thead th {\n",
       "        text-align: right;\n",
       "    }\n",
       "</style>\n",
       "<table border=\"1\" class=\"dataframe\">\n",
       "  <thead>\n",
       "    <tr style=\"text-align: right;\">\n",
       "      <th></th>\n",
       "      <th>track_id</th>\n",
       "      <th>confidence</th>\n",
       "    </tr>\n",
       "  </thead>\n",
       "  <tbody>\n",
       "    <tr>\n",
       "      <th>0</th>\n",
       "      <td>1921</td>\n",
       "      <td>2.228768</td>\n",
       "    </tr>\n",
       "    <tr>\n",
       "      <th>1</th>\n",
       "      <td>802</td>\n",
       "      <td>1.623090</td>\n",
       "    </tr>\n",
       "    <tr>\n",
       "      <th>2</th>\n",
       "      <td>1244</td>\n",
       "      <td>1.087304</td>\n",
       "    </tr>\n",
       "    <tr>\n",
       "      <th>3</th>\n",
       "      <td>2398</td>\n",
       "      <td>1.041252</td>\n",
       "    </tr>\n",
       "    <tr>\n",
       "      <th>4</th>\n",
       "      <td>801</td>\n",
       "      <td>1.032605</td>\n",
       "    </tr>\n",
       "    <tr>\n",
       "      <th>...</th>\n",
       "      <td>...</td>\n",
       "      <td>...</td>\n",
       "    </tr>\n",
       "    <tr>\n",
       "      <th>495</th>\n",
       "      <td>6744</td>\n",
       "      <td>0.210092</td>\n",
       "    </tr>\n",
       "    <tr>\n",
       "      <th>496</th>\n",
       "      <td>7731</td>\n",
       "      <td>0.210040</td>\n",
       "    </tr>\n",
       "    <tr>\n",
       "      <th>497</th>\n",
       "      <td>8402</td>\n",
       "      <td>0.209968</td>\n",
       "    </tr>\n",
       "    <tr>\n",
       "      <th>498</th>\n",
       "      <td>65</td>\n",
       "      <td>0.209734</td>\n",
       "    </tr>\n",
       "    <tr>\n",
       "      <th>499</th>\n",
       "      <td>6293</td>\n",
       "      <td>0.209596</td>\n",
       "    </tr>\n",
       "  </tbody>\n",
       "</table>\n",
       "<p>500 rows × 2 columns</p>\n",
       "</div>"
      ],
      "text/plain": [
       "     track_id  confidence\n",
       "0        1921    2.228768\n",
       "1         802    1.623090\n",
       "2        1244    1.087304\n",
       "3        2398    1.041252\n",
       "4         801    1.032605\n",
       "..        ...         ...\n",
       "495      6744    0.210092\n",
       "496      7731    0.210040\n",
       "497      8402    0.209968\n",
       "498        65    0.209734\n",
       "499      6293    0.209596\n",
       "\n",
       "[500 rows x 2 columns]"
      ]
     },
     "execution_count": 50,
     "metadata": {},
     "output_type": "execute_result"
    }
   ],
   "source": [
    "rec.predict(name, tracks, playlist_id=pid, artists=artist_ids, num_hidden=num_hidden) "
   ]
  },
  {
   "cell_type": "code",
   "execution_count": null,
   "metadata": {},
   "outputs": [],
   "source": []
  },
  {
   "cell_type": "markdown",
   "metadata": {},
   "source": [
    "### Attempted optimized approach"
   ]
  },
  {
   "cell_type": "code",
   "execution_count": null,
   "metadata": {},
   "outputs": [],
   "source": [
    "# %lprun -f rec.train rec.train(train, test)"
   ]
  },
  {
   "cell_type": "code",
   "execution_count": 63,
   "metadata": {},
   "outputs": [
    {
     "name": "stdout",
     "output_type": "stream",
     "text": [
      "load_dataset\n",
      " -- loaded in: 0.25600290298461914s\n",
      " -- filtered in: 0.35828089714050293s\n",
      "(' -- actions: ', 664712)\n",
      "(' -- items: ', 170089)\n",
      "(' -- lists: ', 10000)\n",
      "CPU times: user 345 ms, sys: 92.8 ms, total: 437 ms\n",
      "Wall time: 412 ms\n"
     ]
    }
   ],
   "source": [
    "%time train, test = utils_opt.load_dataset(FOLDER_TRAIN, FOLDER_TEST, feather=True)"
   ]
  },
  {
   "cell_type": "code",
   "execution_count": 52,
   "metadata": {},
   "outputs": [],
   "source": [
    "rec = sknn_opt.SessionKNN(2000, 0, idf_weight=1, folder=OUTPUT_FOLDER)"
   ]
  },
  {
   "cell_type": "code",
   "execution_count": 53,
   "metadata": {},
   "outputs": [
    {
     "name": "stdout",
     "output_type": "stream",
     "text": [
      "CPU times: user 348 ms, sys: 57.1 ms, total: 405 ms\n",
      "Wall time: 404 ms\n"
     ]
    }
   ],
   "source": [
    "%time rec.train(train, test)"
   ]
  },
  {
   "cell_type": "code",
   "execution_count": 54,
   "metadata": {},
   "outputs": [],
   "source": [
    "test_data = list(zip(test['playlists']['playlist_id'], test['playlists']['name'], \n",
    "                     test['playlists']['num_tracks'], test['playlists']['num_samples']))\n",
    "pid, name, ntracks, nsamples = test_data[5000]\n",
    "num_hidden = ntracks - nsamples"
   ]
  },
  {
   "cell_type": "code",
   "execution_count": 55,
   "metadata": {},
   "outputs": [],
   "source": [
    "tracks = test['actions'][test['actions']['playlist_id']==pid]['track_id'].values\n",
    "artist_ids = test['actions'][test['actions']['playlist_id']==pid]['artist_id'].values"
   ]
  },
  {
   "cell_type": "code",
   "execution_count": 56,
   "metadata": {},
   "outputs": [
    {
     "data": {
      "text/html": [
       "<div>\n",
       "<style scoped>\n",
       "    .dataframe tbody tr th:only-of-type {\n",
       "        vertical-align: middle;\n",
       "    }\n",
       "\n",
       "    .dataframe tbody tr th {\n",
       "        vertical-align: top;\n",
       "    }\n",
       "\n",
       "    .dataframe thead th {\n",
       "        text-align: right;\n",
       "    }\n",
       "</style>\n",
       "<table border=\"1\" class=\"dataframe\">\n",
       "  <thead>\n",
       "    <tr style=\"text-align: right;\">\n",
       "      <th></th>\n",
       "      <th>track_id</th>\n",
       "      <th>confidence</th>\n",
       "    </tr>\n",
       "  </thead>\n",
       "  <tbody>\n",
       "    <tr>\n",
       "      <th>0</th>\n",
       "      <td>1921</td>\n",
       "      <td>2.228768</td>\n",
       "    </tr>\n",
       "    <tr>\n",
       "      <th>1</th>\n",
       "      <td>802</td>\n",
       "      <td>1.623090</td>\n",
       "    </tr>\n",
       "    <tr>\n",
       "      <th>2</th>\n",
       "      <td>1244</td>\n",
       "      <td>1.087304</td>\n",
       "    </tr>\n",
       "    <tr>\n",
       "      <th>3</th>\n",
       "      <td>2398</td>\n",
       "      <td>1.041252</td>\n",
       "    </tr>\n",
       "    <tr>\n",
       "      <th>4</th>\n",
       "      <td>801</td>\n",
       "      <td>1.032605</td>\n",
       "    </tr>\n",
       "    <tr>\n",
       "      <th>...</th>\n",
       "      <td>...</td>\n",
       "      <td>...</td>\n",
       "    </tr>\n",
       "    <tr>\n",
       "      <th>495</th>\n",
       "      <td>6744</td>\n",
       "      <td>0.210092</td>\n",
       "    </tr>\n",
       "    <tr>\n",
       "      <th>496</th>\n",
       "      <td>7731</td>\n",
       "      <td>0.210040</td>\n",
       "    </tr>\n",
       "    <tr>\n",
       "      <th>497</th>\n",
       "      <td>8402</td>\n",
       "      <td>0.209968</td>\n",
       "    </tr>\n",
       "    <tr>\n",
       "      <th>498</th>\n",
       "      <td>65</td>\n",
       "      <td>0.209734</td>\n",
       "    </tr>\n",
       "    <tr>\n",
       "      <th>499</th>\n",
       "      <td>6293</td>\n",
       "      <td>0.209596</td>\n",
       "    </tr>\n",
       "  </tbody>\n",
       "</table>\n",
       "<p>500 rows × 2 columns</p>\n",
       "</div>"
      ],
      "text/plain": [
       "     track_id  confidence\n",
       "0        1921    2.228768\n",
       "1         802    1.623090\n",
       "2        1244    1.087304\n",
       "3        2398    1.041252\n",
       "4         801    1.032605\n",
       "..        ...         ...\n",
       "495      6744    0.210092\n",
       "496      7731    0.210040\n",
       "497      8402    0.209968\n",
       "498        65    0.209734\n",
       "499      6293    0.209596\n",
       "\n",
       "[500 rows x 2 columns]"
      ]
     },
     "execution_count": 56,
     "metadata": {},
     "output_type": "execute_result"
    }
   ],
   "source": [
    "rec.predict(name, tracks, playlist_id=pid, artists=artist_ids, num_hidden=num_hidden) "
   ]
  },
  {
   "cell_type": "code",
   "execution_count": null,
   "metadata": {},
   "outputs": [],
   "source": []
  }
 ],
 "metadata": {
  "kernelspec": {
   "display_name": "Python 3 (ipykernel)",
   "language": "python",
   "name": "python3"
  },
  "language_info": {
   "codemirror_mode": {
    "name": "ipython",
    "version": 3
   },
   "file_extension": ".py",
   "mimetype": "text/x-python",
   "name": "python",
   "nbconvert_exporter": "python",
   "pygments_lexer": "ipython3",
   "version": "3.9.12"
  }
 },
 "nbformat": 4,
 "nbformat_minor": 4
}
