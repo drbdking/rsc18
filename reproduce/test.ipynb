{
 "cells": [
  {
   "cell_type": "code",
   "execution_count": 1,
   "metadata": {},
   "outputs": [
    {
     "data": {
      "text/plain": [
       "(None, <pyximport.pyximport.PyxImporter at 0x7fe1b7e7b7f0>)"
      ]
     },
     "execution_count": 1,
     "metadata": {},
     "output_type": "execute_result"
    }
   ],
   "source": [
    "import pyximport\n",
    "pyximport.install()"
   ]
  },
  {
   "cell_type": "code",
   "execution_count": 2,
   "metadata": {},
   "outputs": [],
   "source": [
    "%load_ext line_profiler"
   ]
  },
  {
   "cell_type": "code",
   "execution_count": 3,
   "metadata": {},
   "outputs": [],
   "source": [
    "import utils\n",
    "import utils_opt_ver1\n",
    "import utils_opt_ver2\n",
    "import sknn_opt\n",
    "import sknn_opt_ver2\n",
    "import sknn \n",
    "import pandas as pd\n",
    "import numpy as np"
   ]
  },
  {
   "cell_type": "code",
   "execution_count": 4,
   "metadata": {},
   "outputs": [],
   "source": [
    "FOLDER_TRAIN = 'data/train/short_ver/'\n",
    "FOLDER_TEST = 'data/test/'\n",
    "OUTPUT_FOLDER = 'output/'"
   ]
  },
  {
   "cell_type": "markdown",
   "metadata": {},
   "source": [
    "## Baseline Original Code"
   ]
  },
  {
   "cell_type": "code",
   "execution_count": 5,
   "metadata": {
    "tags": []
   },
   "outputs": [
    {
     "name": "stdout",
     "output_type": "stream",
     "text": [
      "load_dataset\n",
      " -- loaded in: 0.36977624893188477s\n",
      " -- filtered in: 0.503352165222168s\n",
      " -- actions:  664712\n",
      " -- items:  170089\n",
      " -- lists:  10000\n",
      "CPU times: user 457 ms, sys: 180 ms, total: 637 ms\n",
      "Wall time: 558 ms\n"
     ]
    }
   ],
   "source": [
    "%time train, test = utils.load_dataset(FOLDER_TRAIN, FOLDER_TEST, feather=True)"
   ]
  },
  {
   "cell_type": "code",
   "execution_count": 6,
   "metadata": {},
   "outputs": [],
   "source": [
    "rec = sknn.SessionKNN(2000, 0, idf_weight=1, folder=OUTPUT_FOLDER)"
   ]
  },
  {
   "cell_type": "code",
   "execution_count": 10,
   "metadata": {
    "tags": []
   },
   "outputs": [
    {
     "name": "stdout",
     "output_type": "stream",
     "text": [
      " -- finished 100000 of 664712 rows in 0.6771631240844727s\n",
      " -- finished 200000 of 664712 rows in 1.334989070892334s\n",
      " -- finished 300000 of 664712 rows in 2.0025322437286377s\n",
      " -- finished 400000 of 664712 rows in 2.6726672649383545s\n",
      " -- finished 500000 of 664712 rows in 3.3400282859802246s\n",
      " -- finished 600000 of 664712 rows in 4.040913343429565s\n",
      " -- finished 100000 of 664712 rows in 0.650623083114624s\n",
      " -- finished 200000 of 664712 rows in 1.3203508853912354s\n",
      " -- finished 300000 of 664712 rows in 1.9840829372406006s\n",
      " -- finished 400000 of 664712 rows in 2.649099111557007s\n",
      " -- finished 500000 of 664712 rows in 3.314030885696411s\n",
      " -- finished 600000 of 664712 rows in 3.9873299598693848s\n",
      " -- finished 100000 of 664712 rows in 0.6659860610961914s\n",
      " -- finished 200000 of 664712 rows in 1.3258891105651855s\n",
      " -- finished 300000 of 664712 rows in 1.9871599674224854s\n",
      " -- finished 400000 of 664712 rows in 2.6597330570220947s\n",
      " -- finished 500000 of 664712 rows in 3.3332200050354004s\n",
      " -- finished 600000 of 664712 rows in 3.999462842941284s\n",
      " -- finished 100000 of 664712 rows in 0.6479320526123047s\n",
      " -- finished 200000 of 664712 rows in 1.3106870651245117s\n",
      " -- finished 300000 of 664712 rows in 1.9865710735321045s\n",
      " -- finished 400000 of 664712 rows in 2.6519720554351807s\n",
      " -- finished 500000 of 664712 rows in 3.3230140209198s\n",
      " -- finished 600000 of 664712 rows in 3.9932820796966553s\n",
      " -- finished 100000 of 664712 rows in 0.6494531631469727s\n",
      " -- finished 200000 of 664712 rows in 1.3340251445770264s\n",
      " -- finished 300000 of 664712 rows in 1.9994802474975586s\n",
      " -- finished 400000 of 664712 rows in 2.6734161376953125s\n",
      " -- finished 500000 of 664712 rows in 3.3486242294311523s\n",
      " -- finished 600000 of 664712 rows in 4.016536235809326s\n",
      " -- finished 100000 of 664712 rows in 0.6519930362701416s\n",
      " -- finished 200000 of 664712 rows in 1.3169169425964355s\n",
      " -- finished 300000 of 664712 rows in 1.986665964126587s\n",
      " -- finished 400000 of 664712 rows in 2.6505799293518066s\n",
      " -- finished 500000 of 664712 rows in 3.313504934310913s\n",
      " -- finished 600000 of 664712 rows in 3.979947090148926s\n",
      " -- finished 100000 of 664712 rows in 0.656923770904541s\n",
      " -- finished 200000 of 664712 rows in 1.3290009498596191s\n",
      " -- finished 300000 of 664712 rows in 1.9951200485229492s\n",
      " -- finished 400000 of 664712 rows in 2.675792932510376s\n",
      " -- finished 500000 of 664712 rows in 3.432321071624756s\n",
      " -- finished 600000 of 664712 rows in 4.10864782333374s\n",
      " -- finished 100000 of 664712 rows in 0.6458709239959717s\n",
      " -- finished 200000 of 664712 rows in 1.3054428100585938s\n",
      " -- finished 300000 of 664712 rows in 1.971864938735962s\n",
      " -- finished 400000 of 664712 rows in 2.636275053024292s\n",
      " -- finished 500000 of 664712 rows in 3.2989230155944824s\n",
      " -- finished 600000 of 664712 rows in 3.961642026901245s\n",
      " -- finished 100000 of 664712 rows in 0.6734499931335449s\n",
      " -- finished 200000 of 664712 rows in 1.330406904220581s\n",
      " -- finished 300000 of 664712 rows in 1.9901268482208252s\n",
      " -- finished 400000 of 664712 rows in 2.6548779010772705s\n",
      " -- finished 500000 of 664712 rows in 3.3301520347595215s\n",
      " -- finished 600000 of 664712 rows in 4.007037878036499s\n",
      " -- finished 100000 of 664712 rows in 0.6490328311920166s\n",
      " -- finished 200000 of 664712 rows in 1.3087730407714844s\n",
      " -- finished 300000 of 664712 rows in 1.9709680080413818s\n",
      " -- finished 400000 of 664712 rows in 2.6385409832000732s\n",
      " -- finished 500000 of 664712 rows in 3.3288679122924805s\n",
      " -- finished 600000 of 664712 rows in 3.995185136795044s\n",
      " -- finished 100000 of 664712 rows in 0.6457319259643555s\n",
      " -- finished 200000 of 664712 rows in 1.3006229400634766s\n",
      " -- finished 300000 of 664712 rows in 1.96343994140625s\n",
      " -- finished 400000 of 664712 rows in 2.6246538162231445s\n",
      " -- finished 500000 of 664712 rows in 3.2919440269470215s\n",
      " -- finished 600000 of 664712 rows in 3.9561588764190674s\n",
      "4.84 s ± 42.5 ms per loop (mean ± std. dev. of 10 runs, 1 loop each)\n"
     ]
    }
   ],
   "source": [
    "%timeit -r 10 rec.train(train, test)"
   ]
  },
  {
   "cell_type": "code",
   "execution_count": 17,
   "metadata": {},
   "outputs": [],
   "source": [
    "test_data = list(zip(test['playlists']['playlist_id'], test['playlists']['name'], \n",
    "                     test['playlists']['num_tracks'], test['playlists']['num_samples']))\n",
    "pid, name, ntracks, nsamples = test_data[5000]\n",
    "num_hidden = ntracks - nsamples"
   ]
  },
  {
   "cell_type": "code",
   "execution_count": 18,
   "metadata": {},
   "outputs": [],
   "source": [
    "tracks = test['actions'][test['actions']['playlist_id']==pid]['track_id'].values\n",
    "artist_ids = test['actions'][test['actions']['playlist_id']==pid]['artist_id'].values"
   ]
  },
  {
   "cell_type": "code",
   "execution_count": 19,
   "metadata": {
    "tags": []
   },
   "outputs": [
    {
     "data": {
      "text/html": [
       "<div>\n",
       "<style scoped>\n",
       "    .dataframe tbody tr th:only-of-type {\n",
       "        vertical-align: middle;\n",
       "    }\n",
       "\n",
       "    .dataframe tbody tr th {\n",
       "        vertical-align: top;\n",
       "    }\n",
       "\n",
       "    .dataframe thead th {\n",
       "        text-align: right;\n",
       "    }\n",
       "</style>\n",
       "<table border=\"1\" class=\"dataframe\">\n",
       "  <thead>\n",
       "    <tr style=\"text-align: right;\">\n",
       "      <th></th>\n",
       "      <th>track_id</th>\n",
       "      <th>confidence</th>\n",
       "    </tr>\n",
       "  </thead>\n",
       "  <tbody>\n",
       "    <tr>\n",
       "      <th>0</th>\n",
       "      <td>1257</td>\n",
       "      <td>1.008693</td>\n",
       "    </tr>\n",
       "    <tr>\n",
       "      <th>1</th>\n",
       "      <td>6941</td>\n",
       "      <td>0.877109</td>\n",
       "    </tr>\n",
       "    <tr>\n",
       "      <th>2</th>\n",
       "      <td>681</td>\n",
       "      <td>0.875561</td>\n",
       "    </tr>\n",
       "    <tr>\n",
       "      <th>3</th>\n",
       "      <td>2155</td>\n",
       "      <td>0.875269</td>\n",
       "    </tr>\n",
       "    <tr>\n",
       "      <th>4</th>\n",
       "      <td>848</td>\n",
       "      <td>0.840196</td>\n",
       "    </tr>\n",
       "    <tr>\n",
       "      <th>...</th>\n",
       "      <td>...</td>\n",
       "      <td>...</td>\n",
       "    </tr>\n",
       "    <tr>\n",
       "      <th>495</th>\n",
       "      <td>18683</td>\n",
       "      <td>0.176009</td>\n",
       "    </tr>\n",
       "    <tr>\n",
       "      <th>496</th>\n",
       "      <td>4779</td>\n",
       "      <td>0.175825</td>\n",
       "    </tr>\n",
       "    <tr>\n",
       "      <th>497</th>\n",
       "      <td>7293</td>\n",
       "      <td>0.175498</td>\n",
       "    </tr>\n",
       "    <tr>\n",
       "      <th>498</th>\n",
       "      <td>2192</td>\n",
       "      <td>0.175038</td>\n",
       "    </tr>\n",
       "    <tr>\n",
       "      <th>499</th>\n",
       "      <td>1271</td>\n",
       "      <td>0.174947</td>\n",
       "    </tr>\n",
       "  </tbody>\n",
       "</table>\n",
       "<p>500 rows × 2 columns</p>\n",
       "</div>"
      ],
      "text/plain": [
       "     track_id  confidence\n",
       "0        1257    1.008693\n",
       "1        6941    0.877109\n",
       "2         681    0.875561\n",
       "3        2155    0.875269\n",
       "4         848    0.840196\n",
       "..        ...         ...\n",
       "495     18683    0.176009\n",
       "496      4779    0.175825\n",
       "497      7293    0.175498\n",
       "498      2192    0.175038\n",
       "499      1271    0.174947\n",
       "\n",
       "[500 rows x 2 columns]"
      ]
     },
     "execution_count": 19,
     "metadata": {},
     "output_type": "execute_result"
    }
   ],
   "source": [
    "rec.predict(name, tracks, playlist_id=pid, artists=artist_ids, num_hidden=num_hidden) "
   ]
  },
  {
   "cell_type": "markdown",
   "metadata": {
    "tags": []
   },
   "source": [
    "## Optimization Attempts"
   ]
  },
  {
   "cell_type": "markdown",
   "metadata": {},
   "source": [
    "### Ver1"
   ]
  },
  {
   "cell_type": "code",
   "execution_count": null,
   "metadata": {},
   "outputs": [],
   "source": [
    "# %lprun -f rec.train rec.train(train, test)"
   ]
  },
  {
   "cell_type": "code",
   "execution_count": 8,
   "metadata": {},
   "outputs": [
    {
     "name": "stdout",
     "output_type": "stream",
     "text": [
      "load_dataset\n",
      " -- loaded in: 0.33950090408325195s\n",
      " -- filtered in: 0.4713008403778076s\n",
      "(' -- actions: ', 664712)\n",
      "(' -- items: ', 170089)\n",
      "(' -- lists: ', 10000)\n",
      "CPU times: user 434 ms, sys: 133 ms, total: 567 ms\n",
      "Wall time: 545 ms\n"
     ]
    }
   ],
   "source": [
    "%time train, test = utils_opt_ver1.load_dataset(FOLDER_TRAIN, FOLDER_TEST, feather=True)"
   ]
  },
  {
   "cell_type": "code",
   "execution_count": 9,
   "metadata": {},
   "outputs": [],
   "source": [
    "rec = sknn_opt.SessionKNN(2000, 0, idf_weight=1, folder=OUTPUT_FOLDER)"
   ]
  },
  {
   "cell_type": "code",
   "execution_count": 10,
   "metadata": {},
   "outputs": [
    {
     "name": "stdout",
     "output_type": "stream",
     "text": [
      "CPU times: user 1.41 s, sys: 221 ms, total: 1.63 s\n",
      "Wall time: 5.94 s\n"
     ]
    }
   ],
   "source": [
    "%time rec.train(train, test)"
   ]
  },
  {
   "cell_type": "code",
   "execution_count": 11,
   "metadata": {},
   "outputs": [],
   "source": [
    "test_data = list(zip(test['playlists']['playlist_id'], test['playlists']['name'], \n",
    "                     test['playlists']['num_tracks'], test['playlists']['num_samples']))\n",
    "pid, name, ntracks, nsamples = test_data[5000]\n",
    "num_hidden = ntracks - nsamples\n",
    "\n",
    "tracks = test['actions'][test['actions']['playlist_id']==pid]['track_id'].values\n",
    "artist_ids = test['actions'][test['actions']['playlist_id']==pid]['artist_id'].values\n",
    "\n",
    "rec.predict(name, tracks, playlist_id=pid, artists=artist_ids, num_hidden=num_hidden) "
   ]
  },
  {
   "cell_type": "markdown",
   "metadata": {},
   "source": [
    "### Ver2"
   ]
  },
  {
   "cell_type": "code",
   "execution_count": 11,
   "metadata": {},
   "outputs": [
    {
     "name": "stdout",
     "output_type": "stream",
     "text": [
      "load_dataset\n",
      " -- loaded in: 0.36095595359802246s\n",
      " -- filtered in: 0.498060941696167s\n",
      " -- actions:  664712\n",
      " -- items:  170089\n",
      " -- lists:  10000\n",
      "CPU times: user 441 ms, sys: 138 ms, total: 579 ms\n",
      "Wall time: 553 ms\n"
     ]
    }
   ],
   "source": [
    "%time train, test = utils.load_dataset(FOLDER_TRAIN, FOLDER_TEST, feather=True)"
   ]
  },
  {
   "cell_type": "code",
   "execution_count": 12,
   "metadata": {},
   "outputs": [],
   "source": [
    "rec = sknn_opt_ver2.SessionKNN(2000, 0, idf_weight=1, folder=OUTPUT_FOLDER)"
   ]
  },
  {
   "cell_type": "code",
   "execution_count": 13,
   "metadata": {},
   "outputs": [
    {
     "name": "stdout",
     "output_type": "stream",
     "text": [
      "4.02 s ± 77.3 ms per loop (mean ± std. dev. of 10 runs, 1 loop each)\n"
     ]
    }
   ],
   "source": [
    "%timeit -r 10 rec.train(train, test)"
   ]
  },
  {
   "cell_type": "code",
   "execution_count": null,
   "metadata": {},
   "outputs": [],
   "source": [
    "test_data = list(zip(test['playlists']['playlist_id'], test['playlists']['name'], \n",
    "                     test['playlists']['num_tracks'], test['playlists']['num_samples']))\n",
    "pid, name, ntracks, nsamples = test_data[5000]\n",
    "num_hidden = ntracks - nsamples\n",
    "\n",
    "tracks = test['actions'][test['actions']['playlist_id']==pid]['track_id'].values\n",
    "artist_ids = test['actions'][test['actions']['playlist_id']==pid]['artist_id'].values\n",
    "\n",
    "rec.predict(name, tracks, playlist_id=pid, artists=artist_ids, num_hidden=num_hidden) "
   ]
  }
 ],
 "metadata": {
  "kernelspec": {
   "display_name": "Python 3 (ipykernel)",
   "language": "python",
   "name": "python3"
  },
  "language_info": {
   "codemirror_mode": {
    "name": "ipython",
    "version": 3
   },
   "file_extension": ".py",
   "mimetype": "text/x-python",
   "name": "python",
   "nbconvert_exporter": "python",
   "pygments_lexer": "ipython3",
   "version": "3.9.12"
  }
 },
 "nbformat": 4,
 "nbformat_minor": 4
}
