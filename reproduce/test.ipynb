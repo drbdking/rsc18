{
 "cells": [
  {
   "cell_type": "code",
   "execution_count": 1,
   "metadata": {},
   "outputs": [
    {
     "data": {
      "text/plain": [
       "(None, <pyximport.pyximport.PyxImporter at 0x7f84d84f0f10>)"
      ]
     },
     "execution_count": 1,
     "metadata": {},
     "output_type": "execute_result"
    }
   ],
   "source": [
    "import pyximport\n",
    "pyximport.install()"
   ]
  },
  {
   "cell_type": "code",
   "execution_count": 2,
   "metadata": {},
   "outputs": [],
   "source": [
    "import utils\n",
    "import utils_optimized\n",
    "from sknn import *\n",
    "import pandas as pd\n",
    "import numpy as np"
   ]
  },
  {
   "cell_type": "code",
   "execution_count": 10,
   "metadata": {},
   "outputs": [],
   "source": [
    "FOLDER_TRAIN = 'data/train/'\n",
    "FOLDER_TEST = 'data/test/'"
   ]
  },
  {
   "cell_type": "code",
   "execution_count": 11,
   "metadata": {
    "tags": []
   },
   "outputs": [
    {
     "name": "stdout",
     "output_type": "stream",
     "text": [
      "load_dataset\n",
      " -- loaded in: 7.484531879425049s\n",
      " -- filtered in: 24.503355026245117s\n",
      " -- actions:  66346428\n",
      " -- items:  2262292\n",
      " -- lists:  1000000\n",
      "CPU times: user 14.1 s, sys: 15.8 s, total: 29.9 s\n",
      "Wall time: 26.5 s\n"
     ]
    }
   ],
   "source": [
    "%time train, test = utils.load_dataset(FOLDER_TRAIN, FOLDER_TEST, feather=True)"
   ]
  },
  {
   "cell_type": "code",
   "execution_count": 12,
   "metadata": {},
   "outputs": [
    {
     "name": "stdout",
     "output_type": "stream",
     "text": [
      "load_dataset\n",
      " -- loaded in: 5.435710906982422s\n",
      " -- filtered in: 22.636461973190308s\n",
      "(' -- actions: ', 66346428)\n",
      "(' -- items: ', 2262292)\n",
      "(' -- lists: ', 1000000)\n",
      "CPU times: user 13.2 s, sys: 12.2 s, total: 25.4 s\n",
      "Wall time: 25.1 s\n"
     ]
    }
   ],
   "source": [
    "%time train, test = utils_optimized.load_dataset(FOLDER_TRAIN, FOLDER_TEST, feather=True)"
   ]
  },
  {
   "cell_type": "code",
   "execution_count": 7,
   "metadata": {},
   "outputs": [],
   "source": [
    "OUTPUT_FOLDER = 'output/'\n",
    "rec = SessionKNN(2000, 0, idf_weight=1, folder=OUTPUT_FOLDER)"
   ]
  },
  {
   "cell_type": "code",
   "execution_count": 9,
   "metadata": {},
   "outputs": [
    {
     "name": "stdout",
     "output_type": "stream",
     "text": [
      " -- finished 100000 of 134125 rows in 0.448638916015625s\n"
     ]
    }
   ],
   "source": [
    "rec.train(train, test)"
   ]
  },
  {
   "cell_type": "code",
   "execution_count": 10,
   "metadata": {},
   "outputs": [],
   "source": [
    "test_data = list(zip(test['playlists']['playlist_id'], test['playlists']['name'], \n",
    "                     test['playlists']['num_tracks'], test['playlists']['num_samples']))\n",
    "pid, name, ntracks, nsamples = test_data[5000]\n",
    "num_hidden = ntracks - nsamples"
   ]
  },
  {
   "cell_type": "code",
   "execution_count": 11,
   "metadata": {},
   "outputs": [],
   "source": [
    "tracks = test['actions'][test['actions']['playlist_id']==pid]['track_id'].values\n",
    "artist_ids = test['actions'][test['actions']['playlist_id']==pid]['artist_id'].values"
   ]
  },
  {
   "cell_type": "code",
   "execution_count": 12,
   "metadata": {},
   "outputs": [
    {
     "data": {
      "text/html": [
       "<div>\n",
       "<style scoped>\n",
       "    .dataframe tbody tr th:only-of-type {\n",
       "        vertical-align: middle;\n",
       "    }\n",
       "\n",
       "    .dataframe tbody tr th {\n",
       "        vertical-align: top;\n",
       "    }\n",
       "\n",
       "    .dataframe thead th {\n",
       "        text-align: right;\n",
       "    }\n",
       "</style>\n",
       "<table border=\"1\" class=\"dataframe\">\n",
       "  <thead>\n",
       "    <tr style=\"text-align: right;\">\n",
       "      <th></th>\n",
       "      <th>track_id</th>\n",
       "      <th>confidence</th>\n",
       "    </tr>\n",
       "  </thead>\n",
       "  <tbody>\n",
       "    <tr>\n",
       "      <th>0</th>\n",
       "      <td>1921</td>\n",
       "      <td>1.023514</td>\n",
       "    </tr>\n",
       "    <tr>\n",
       "      <th>1</th>\n",
       "      <td>802</td>\n",
       "      <td>0.886773</td>\n",
       "    </tr>\n",
       "    <tr>\n",
       "      <th>2</th>\n",
       "      <td>6749</td>\n",
       "      <td>0.735956</td>\n",
       "    </tr>\n",
       "    <tr>\n",
       "      <th>3</th>\n",
       "      <td>9149</td>\n",
       "      <td>0.733705</td>\n",
       "    </tr>\n",
       "    <tr>\n",
       "      <th>4</th>\n",
       "      <td>1244</td>\n",
       "      <td>0.702174</td>\n",
       "    </tr>\n",
       "    <tr>\n",
       "      <th>...</th>\n",
       "      <td>...</td>\n",
       "      <td>...</td>\n",
       "    </tr>\n",
       "    <tr>\n",
       "      <th>495</th>\n",
       "      <td>7837</td>\n",
       "      <td>0.154691</td>\n",
       "    </tr>\n",
       "    <tr>\n",
       "      <th>496</th>\n",
       "      <td>7763</td>\n",
       "      <td>0.154422</td>\n",
       "    </tr>\n",
       "    <tr>\n",
       "      <th>497</th>\n",
       "      <td>2757</td>\n",
       "      <td>0.153718</td>\n",
       "    </tr>\n",
       "    <tr>\n",
       "      <th>498</th>\n",
       "      <td>11874</td>\n",
       "      <td>0.153288</td>\n",
       "    </tr>\n",
       "    <tr>\n",
       "      <th>499</th>\n",
       "      <td>14211</td>\n",
       "      <td>0.153149</td>\n",
       "    </tr>\n",
       "  </tbody>\n",
       "</table>\n",
       "<p>500 rows × 2 columns</p>\n",
       "</div>"
      ],
      "text/plain": [
       "     track_id  confidence\n",
       "0        1921    1.023514\n",
       "1         802    0.886773\n",
       "2        6749    0.735956\n",
       "3        9149    0.733705\n",
       "4        1244    0.702174\n",
       "..        ...         ...\n",
       "495      7837    0.154691\n",
       "496      7763    0.154422\n",
       "497      2757    0.153718\n",
       "498     11874    0.153288\n",
       "499     14211    0.153149\n",
       "\n",
       "[500 rows x 2 columns]"
      ]
     },
     "execution_count": 12,
     "metadata": {},
     "output_type": "execute_result"
    }
   ],
   "source": [
    "rec.predict(name, tracks, playlist_id=pid, artists=artist_ids, num_hidden=num_hidden) "
   ]
  }
 ],
 "metadata": {
  "kernelspec": {
   "display_name": "Python 3 (ipykernel)",
   "language": "python",
   "name": "python3"
  },
  "language_info": {
   "codemirror_mode": {
    "name": "ipython",
    "version": 3
   },
   "file_extension": ".py",
   "mimetype": "text/x-python",
   "name": "python",
   "nbconvert_exporter": "python",
   "pygments_lexer": "ipython3",
   "version": "3.9.12"
  }
 },
 "nbformat": 4,
 "nbformat_minor": 4
}
