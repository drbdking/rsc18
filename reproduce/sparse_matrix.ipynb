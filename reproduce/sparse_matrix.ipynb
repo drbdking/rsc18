{
 "cells": [
  {
   "cell_type": "code",
   "execution_count": 1,
   "id": "9cc603f4-56d2-4835-8833-9b0c00dd6e91",
   "metadata": {},
   "outputs": [],
   "source": [
    "from utils import *\n",
    "from sknn_sparse_matrix import *\n",
    "import pandas as pd\n",
    "import numpy as np\n",
    "from scipy.sparse import csr_matrix\n",
    "from scipy.sparse.linalg import norm\n",
    "from tqdm import tqdm"
   ]
  },
  {
   "cell_type": "code",
   "execution_count": 2,
   "id": "841d231e-33e1-41cd-a14e-371dddff8e06",
   "metadata": {},
   "outputs": [
    {
     "name": "stdout",
     "output_type": "stream",
     "text": [
      "load_dataset\n",
      " -- loaded in: 0.5942926406860352s\n",
      " -- filtered in: 0.8881843090057373s\n",
      " -- actions:  3344374\n",
      " -- items:  461880\n",
      " -- lists:  50000\n"
     ]
    }
   ],
   "source": [
    "FOLDER_TRAIN = 'data/train/'\n",
    "FOLDER_TEST = 'data/test/'\n",
    "train, test = load_dataset(FOLDER_TRAIN, FOLDER_TEST, feather=True)"
   ]
  },
  {
   "cell_type": "code",
   "execution_count": 3,
   "id": "86373af1-4df9-475f-a805-d3432d315b6a",
   "metadata": {},
   "outputs": [],
   "source": [
    "OUTPUT_FOLDER = 'output/'\n",
    "rec = SessionKNN(2000, 0, sampling='else', idf_weight=1, folder=OUTPUT_FOLDER)"
   ]
  },
  {
   "cell_type": "code",
   "execution_count": 4,
   "id": "2a795a1f-c54b-4ff3-847a-ef34e7ec7ee3",
   "metadata": {},
   "outputs": [
    {
     "name": "stdout",
     "output_type": "stream",
     "text": [
      "Matrix build time:  0.2764701843261719\n",
      "IDF calculate time:  0.013000011444091797\n"
     ]
    }
   ],
   "source": [
    "rec.train(train, test)"
   ]
  },
  {
   "cell_type": "code",
   "execution_count": 5,
   "id": "d0c837c8-5fdc-4cf8-9279-7c50a78d7687",
   "metadata": {},
   "outputs": [],
   "source": [
    "pid = 400\n",
    "name = train['playlists'][train['playlists']['playlist_id'] == pid]['name']\n",
    "ntracks = train['playlists'][train['playlists']['playlist_id'] == pid]['num_tracks']\n",
    "# nsamples = train['playlists'][train['playlists']['playlist_id'] == pid]['num_samples']\n",
    "\n",
    "tracks = train['actions'][train['actions']['playlist_id']==pid]['track_id'].values\n",
    "artist_ids = train['actions'][train['actions']['playlist_id']==pid]['artist_id'].values"
   ]
  },
  {
   "cell_type": "code",
   "execution_count": 6,
   "id": "b0324eb5-ef7a-4f3a-8f93-aef67b42c39d",
   "metadata": {},
   "outputs": [
    {
     "name": "stderr",
     "output_type": "stream",
     "text": [
      "100%|██████████████████████████████████████████████████████████████████████████████| 1000/1000 [01:16<00:00, 13.10it/s]"
     ]
    },
    {
     "name": "stdout",
     "output_type": "stream",
     "text": [
      "Mean find neighbor time:  0.027676326513290404\n",
      "Mean score item time:  0.01790280532836914\n"
     ]
    },
    {
     "name": "stderr",
     "output_type": "stream",
     "text": [
      "\n"
     ]
    }
   ],
   "source": [
    "n = []\n",
    "s = []\n",
    "pids = np.random.choice(train['playlists']['playlist_id'].values, 1000)\n",
    "for pid in tqdm(pids):\n",
    "    name = train['playlists'][train['playlists']['playlist_id'] == pid]['name']\n",
    "    ntracks = train['playlists'][train['playlists']['playlist_id'] == pid]['num_tracks']\n",
    "    tracks = train['actions'][train['actions']['playlist_id']==pid]['track_id'].values\n",
    "    artist_ids = train['actions'][train['actions']['playlist_id']==pid]['artist_id'].values\n",
    "    _, n_time, s_time = rec.predict(name, tracks, playlist_id=pid, artists=artist_ids)\n",
    "    n.append(n_time)\n",
    "    s.append(s_time)\n",
    "print('Mean find neighbor time: ', np.mean(n))\n",
    "print('Mean score item time: ', np.mean(s))"
   ]
  },
  {
   "cell_type": "code",
   "execution_count": null,
   "id": "f354eee7-bceb-4871-8f99-9f7833fd6f41",
   "metadata": {},
   "outputs": [],
   "source": []
  }
 ],
 "metadata": {
  "kernelspec": {
   "display_name": "Python 3 (ipykernel)",
   "language": "python",
   "name": "python3"
  },
  "language_info": {
   "codemirror_mode": {
    "name": "ipython",
    "version": 3
   },
   "file_extension": ".py",
   "mimetype": "text/x-python",
   "name": "python",
   "nbconvert_exporter": "python",
   "pygments_lexer": "ipython3",
   "version": "3.9.12"
  }
 },
 "nbformat": 4,
 "nbformat_minor": 5
}
