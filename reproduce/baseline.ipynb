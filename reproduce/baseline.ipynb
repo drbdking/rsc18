{
 "cells": [
  {
   "cell_type": "code",
   "execution_count": 1,
   "id": "e9f74e18-1bde-4e4c-99ad-71283f9b13ca",
   "metadata": {},
   "outputs": [],
   "source": [
    "from utils import *\n",
    "from sknn import *\n",
    "import pandas as pd\n",
    "import numpy as np\n",
    "from scipy.sparse import csr_matrix\n",
    "from scipy.sparse.linalg import norm\n",
    "from tqdm import tqdm\n"
   ]
  },
  {
   "cell_type": "code",
   "execution_count": 2,
   "id": "3d2d3a9b-eb7a-4f59-9880-0fe0f7ac06ee",
   "metadata": {},
   "outputs": [
    {
     "name": "stdout",
     "output_type": "stream",
     "text": [
      "load_dataset\n",
      " -- loaded in: 0.608405590057373s\n",
      " -- filtered in: 0.907970666885376s\n",
      " -- actions:  3344374\n",
      " -- items:  461880\n",
      " -- lists:  50000\n"
     ]
    }
   ],
   "source": [
    "FOLDER_TRAIN = 'data/train/'\n",
    "FOLDER_TEST = 'data/test/'\n",
    "train, test = load_dataset(FOLDER_TRAIN, FOLDER_TEST, feather=True)"
   ]
  },
  {
   "cell_type": "code",
   "execution_count": 3,
   "id": "d353f5d5-171c-4f75-b710-e40839ca348f",
   "metadata": {},
   "outputs": [],
   "source": [
    "OUTPUT_FOLDER = 'output/'\n",
    "rec = SessionKNN(2000, 0, sampling='else', idf_weight=1, folder=OUTPUT_FOLDER)"
   ]
  },
  {
   "cell_type": "code",
   "execution_count": 4,
   "id": "2b660738-c82e-4a20-afec-fbdd83ce7b86",
   "metadata": {},
   "outputs": [
    {
     "name": "stdout",
     "output_type": "stream",
     "text": [
      "Mapping build time:  25.314160346984863\n",
      "IDF calculate time:  0.6013119220733643\n"
     ]
    }
   ],
   "source": [
    "rec.train(train, test)"
   ]
  },
  {
   "cell_type": "code",
   "execution_count": 5,
   "id": "d42b4ba7-9d70-4796-a560-14657f2c52e3",
   "metadata": {},
   "outputs": [],
   "source": [
    "# test_data = list(zip(test['playlists']['playlist_id'], test['playlists']['name'], \n",
    "#                      test['playlists']['num_tracks'], test['playlists']['num_samples']))\n",
    "# pid, name, ntracks, nsamples = test_data[5000]\n",
    "# num_hidden = ntracks - nsamples"
   ]
  },
  {
   "cell_type": "code",
   "execution_count": 6,
   "id": "f1ef9cd3-2228-4a56-a0ef-87fd7bb02c48",
   "metadata": {},
   "outputs": [],
   "source": [
    "# pid = 400\n",
    "# name = train['playlists'][train['playlists']['playlist_id'] == pid]['name']\n",
    "# ntracks = train['playlists'][train['playlists']['playlist_id'] == pid]['num_tracks']\n",
    "# # nsamples = train['playlists'][train['playlists']['playlist_id'] == pid]['num_samples']\n",
    "\n",
    "# tracks = train['actions'][train['actions']['playlist_id']==pid]['track_id'].values\n",
    "# artist_ids = train['actions'][train['actions']['playlist_id']==pid]['artist_id'].values"
   ]
  },
  {
   "cell_type": "code",
   "execution_count": 7,
   "id": "8344b694-7974-4328-8c7e-fc3642af9f1d",
   "metadata": {},
   "outputs": [
    {
     "name": "stderr",
     "output_type": "stream",
     "text": [
      "100%|██████████████████████████████████████████████████████████████████████████████| 1000/1000 [04:44<00:00,  3.51it/s]"
     ]
    },
    {
     "name": "stdout",
     "output_type": "stream",
     "text": [
      "Mean find neighbor time:  0.062105878114700315\n",
      "Mean score item time:  0.16751845622062683\n"
     ]
    },
    {
     "name": "stderr",
     "output_type": "stream",
     "text": [
      "\n"
     ]
    }
   ],
   "source": [
    "n = []\n",
    "s = []\n",
    "pids = np.random.choice(train['playlists']['playlist_id'].values, 1000)\n",
    "for pid in tqdm(pids):\n",
    "    name = train['playlists'][train['playlists']['playlist_id'] == pid]['name']\n",
    "    ntracks = train['playlists'][train['playlists']['playlist_id'] == pid]['num_tracks']\n",
    "    tracks = train['actions'][train['actions']['playlist_id']==pid]['track_id'].values\n",
    "    artist_ids = train['actions'][train['actions']['playlist_id']==pid]['artist_id'].values\n",
    "    _, n_time, s_time = rec.predict(name, tracks, playlist_id=pid, artists=artist_ids)\n",
    "    n.append(n_time)\n",
    "    s.append(s_time)\n",
    "print('Mean find neighbor time: ', np.mean(n))\n",
    "print('Mean score item time: ', np.mean(s))"
   ]
  },
  {
   "cell_type": "markdown",
   "id": "ae2adb12-8da5-49ef-b951-539216c423ca",
   "metadata": {
    "jp-MarkdownHeadingCollapsed": true,
    "tags": []
   },
   "source": [
    "### Ignore things below"
   ]
  },
  {
   "cell_type": "code",
   "execution_count": 18,
   "id": "f54b812a-07f3-4ab4-b358-4b83cccb8ccb",
   "metadata": {},
   "outputs": [
    {
     "name": "stdout",
     "output_type": "stream",
     "text": [
      "[   536 130904  53935  92414 101662]\n"
     ]
    }
   ],
   "source": [
    "print(tracks)"
   ]
  },
  {
   "cell_type": "code",
   "execution_count": 13,
   "id": "5cf6b4d6-dd64-4228-b236-03227502f185",
   "metadata": {},
   "outputs": [
    {
     "name": "stdout",
     "output_type": "stream",
     "text": [
      "5\n",
      "5\n",
      "5\n",
      "5\n",
      "5\n",
      "1682004521.935925\n",
      "1682004521.935925\n"
     ]
    }
   ],
   "source": [
    "import time\n",
    "start = time.time()\n",
    "for i in range(5):\n",
    "    print(5)\n",
    "end = time.time()\n",
    "print(start)\n",
    "print(end)"
   ]
  },
  {
   "cell_type": "code",
   "execution_count": 10,
   "id": "a704fba7-0d50-4d13-8d11-293cf41fce11",
   "metadata": {},
   "outputs": [
    {
     "data": {
      "text/plain": [
       "0.5999999999999999"
      ]
     },
     "execution_count": 10,
     "metadata": {},
     "output_type": "execute_result"
    }
   ],
   "source": [
    "a = set([1, 3, 4, 6, 8])\n",
    "b = set([1, 2, 3, 4, 5])\n",
    "a & b\n",
    "li = len(a & b)\n",
    "la = len(a)\n",
    "lb = len(b)\n",
    "li / ( sqrt(la) * sqrt(lb) )"
   ]
  },
  {
   "cell_type": "code",
   "execution_count": 20,
   "id": "2b794971-43a7-4522-aff4-57148fce597c",
   "metadata": {},
   "outputs": [],
   "source": []
  },
  {
   "cell_type": "code",
   "execution_count": 19,
   "id": "1647b3b9-053a-44c5-9bd0-0506743dd7de",
   "metadata": {},
   "outputs": [],
   "source": [
    "indptr = np.array([0, 2, 3, 6])\n",
    "indices = np.array([0, 2, 2, 0, 1, 2])\n",
    "data = np.array([1, 2, 3, 4, 5, 6])\n",
    "a = csr_matrix((data, indices, indptr), shape=(3, 3))\n",
    "# r,c = (a.sum(axis=0)).nonzero()\n",
    "# c"
   ]
  },
  {
   "cell_type": "code",
   "execution_count": 20,
   "id": "acc21c61-c195-46c9-8763-edcd19115acd",
   "metadata": {},
   "outputs": [
    {
     "data": {
      "text/plain": [
       "array([[1, 0, 2],\n",
       "       [0, 0, 3],\n",
       "       [4, 5, 6]])"
      ]
     },
     "execution_count": 20,
     "metadata": {},
     "output_type": "execute_result"
    }
   ],
   "source": [
    "a.toarray()"
   ]
  },
  {
   "cell_type": "code",
   "execution_count": 21,
   "id": "f3723ef4-1d5d-4016-b665-74829f38244f",
   "metadata": {},
   "outputs": [
    {
     "data": {
      "text/plain": [
       "matrix([[1.60943791, 1.60943791, 2.39789527]])"
      ]
     },
     "execution_count": 21,
     "metadata": {},
     "output_type": "execute_result"
    }
   ],
   "source": [
    "np.log(a.sum(axis=0))"
   ]
  },
  {
   "cell_type": "code",
   "execution_count": 22,
   "id": "d4521e46-3be2-40aa-8eb3-35a34c3207e6",
   "metadata": {},
   "outputs": [
    {
     "data": {
      "text/plain": [
       "array([[ 1.60943791,  0.        ,  4.79579055],\n",
       "       [ 0.        ,  0.        ,  7.19368582],\n",
       "       [ 6.43775165,  8.04718956, 14.38737164]])"
      ]
     },
     "execution_count": 22,
     "metadata": {},
     "output_type": "execute_result"
    }
   ],
   "source": [
    "csr_matrix.multiply(a, np.log(a.sum(axis=0))).toarray()"
   ]
  },
  {
   "cell_type": "code",
   "execution_count": 6,
   "id": "af8a8184-5b61-4c63-ba9b-b27d3bdc7bca",
   "metadata": {},
   "outputs": [
    {
     "data": {
      "text/plain": [
       "array([[1.],\n",
       "       [1.],\n",
       "       [0.]])"
      ]
     },
     "execution_count": 6,
     "metadata": {},
     "output_type": "execute_result"
    }
   ],
   "source": [
    "col = np.zeros(2)\n",
    "row = np.array([0, 1])\n",
    "data = np.ones(2)\n",
    "tracks_vector = csr_matrix((data, (row, col)), shape=(3, 1))\n",
    "tracks_vector.toarray()"
   ]
  },
  {
   "cell_type": "code",
   "execution_count": 9,
   "id": "c0fe2482-f5d8-47d6-b6c6-d840fb79dd87",
   "metadata": {},
   "outputs": [
    {
     "data": {
      "text/plain": [
       "1.4142135623730951"
      ]
     },
     "execution_count": 9,
     "metadata": {},
     "output_type": "execute_result"
    }
   ],
   "source": [
    "norm(tracks_vector)"
   ]
  },
  {
   "cell_type": "code",
   "execution_count": 21,
   "id": "37d8ea9f-663f-4134-9699-4aa260ac9337",
   "metadata": {},
   "outputs": [
    {
     "data": {
      "text/plain": [
       "<3x3 sparse matrix of type '<class 'numpy.float64'>'\n",
       "\twith 6 stored elements in COOrdinate format>"
      ]
     },
     "execution_count": 21,
     "metadata": {},
     "output_type": "execute_result"
    }
   ],
   "source": [
    "(a.dot(tracks_vector)).multiply(b)"
   ]
  },
  {
   "cell_type": "code",
   "execution_count": 13,
   "id": "c56deb37-9232-40bf-873e-191c5bf4d2c4",
   "metadata": {},
   "outputs": [
    {
     "data": {
      "text/plain": [
       "array([0.4472136 , 0.33333333, 0.11396058])"
      ]
     },
     "execution_count": 20,
     "metadata": {},
     "output_type": "execute_result"
    }
   ],
   "source": [
    "b = 1 / norm(a, axis=1)\n",
    "b"
   ]
  },
  {
   "cell_type": "code",
   "execution_count": 22,
   "id": "789c21c6-fa1d-49cc-9846-049200c88179",
   "metadata": {},
   "outputs": [
    {
     "data": {
      "text/plain": [
       "array([1.34164079, 1.        , 1.70940865])"
      ]
     },
     "execution_count": 22,
     "metadata": {},
     "output_type": "execute_result"
    }
   ],
   "source": [
    "c = np.ones(3)\n",
    "d = csr_matrix.multiply(a, b)\n",
    "d.dot(c)"
   ]
  },
  {
   "cell_type": "code",
   "execution_count": 24,
   "id": "cda150a9-d42b-43db-821b-96a60628a1b2",
   "metadata": {},
   "outputs": [
    {
     "data": {
      "text/plain": [
       "array([[0.4472136 , 0.        , 0.89442719],\n",
       "       [0.        , 0.        , 1.        ],\n",
       "       [0.45584231, 0.56980288, 0.68376346]])"
      ]
     },
     "execution_count": 24,
     "metadata": {},
     "output_type": "execute_result"
    }
   ],
   "source": [
    "d.toarray()"
   ]
  },
  {
   "cell_type": "code",
   "execution_count": 66,
   "id": "51554d49-4e81-42be-adb4-5084f9db81d7",
   "metadata": {},
   "outputs": [
    {
     "data": {
      "text/plain": [
       "array([[ 1,  0,  2],\n",
       "       [ 0,  0,  6],\n",
       "       [12, 15, 18]])"
      ]
     },
     "execution_count": 66,
     "metadata": {},
     "output_type": "execute_result"
    }
   ],
   "source": [
    "b = np.array([[1], [2], [3]])\n",
    "csr_matrix.multiply(a, b).toarray()"
   ]
  },
  {
   "cell_type": "code",
   "execution_count": 64,
   "id": "572b47ab-5513-4a3b-9b69-e9c2507dd2ff",
   "metadata": {},
   "outputs": [
    {
     "data": {
      "text/plain": [
       "matrix([[ 5,  5, 11]], dtype=int32)"
      ]
     },
     "execution_count": 64,
     "metadata": {},
     "output_type": "execute_result"
    }
   ],
   "source": [
    "b"
   ]
  },
  {
   "cell_type": "code",
   "execution_count": 11,
   "id": "5f161959-9e8f-46f2-b2cd-b1253e000835",
   "metadata": {},
   "outputs": [
    {
     "data": {
      "text/plain": [
       "array([[ 1,  0,  6],\n",
       "       [ 0,  0,  9],\n",
       "       [ 4, 10, 18]])"
      ]
     },
     "execution_count": 11,
     "metadata": {},
     "output_type": "execute_result"
    }
   ],
   "source": [
    "b = np.array([[1, 2, 3]])\n",
    "a.multiply(b.T)toarray()"
   ]
  },
  {
   "cell_type": "code",
   "execution_count": 31,
   "id": "369304f6-e481-4296-b85a-1259e2dd7eca",
   "metadata": {},
   "outputs": [
    {
     "data": {
      "text/plain": [
       "(array([0, 0, 0], dtype=int64), array([0, 1, 2], dtype=int64))"
      ]
     },
     "execution_count": 31,
     "metadata": {},
     "output_type": "execute_result"
    }
   ],
   "source": [
    "a.sum(axis=0).nonzero()"
   ]
  },
  {
   "cell_type": "code",
   "execution_count": 44,
   "id": "c6e1d5f5-04dd-47c3-abbe-f9460ecaf7e7",
   "metadata": {},
   "outputs": [
    {
     "data": {
      "text/plain": [
       "22"
      ]
     },
     "execution_count": 44,
     "metadata": {},
     "output_type": "execute_result"
    }
   ],
   "source": [
    "np.dot(indices, data)"
   ]
  },
  {
   "cell_type": "code",
   "execution_count": 45,
   "id": "9712783a-a1f9-4e45-97c9-220cca1f217d",
   "metadata": {},
   "outputs": [
    {
     "data": {
      "text/plain": [
       "7"
      ]
     },
     "execution_count": 45,
     "metadata": {},
     "output_type": "execute_result"
    }
   ],
   "source": [
    "indices.sum()"
   ]
  },
  {
   "cell_type": "code",
   "execution_count": 35,
   "id": "def816cb-4792-4c65-81f6-e3b006ad0bbc",
   "metadata": {},
   "outputs": [
    {
     "data": {
      "text/plain": [
       "array([1, 2, 3])"
      ]
     },
     "execution_count": 35,
     "metadata": {},
     "output_type": "execute_result"
    }
   ],
   "source": [
    "a = np.array([1, 2, 3, 3])\n",
    "np.unique(a)"
   ]
  },
  {
   "cell_type": "code",
   "execution_count": 33,
   "id": "f0f2165a-f028-4b26-b459-114f59cb9380",
   "metadata": {},
   "outputs": [
    {
     "data": {
      "text/html": [
       "<div>\n",
       "<style scoped>\n",
       "    .dataframe tbody tr th:only-of-type {\n",
       "        vertical-align: middle;\n",
       "    }\n",
       "\n",
       "    .dataframe tbody tr th {\n",
       "        vertical-align: top;\n",
       "    }\n",
       "\n",
       "    .dataframe thead th {\n",
       "        text-align: right;\n",
       "    }\n",
       "</style>\n",
       "<table border=\"1\" class=\"dataframe\">\n",
       "  <thead>\n",
       "    <tr style=\"text-align: right;\">\n",
       "      <th></th>\n",
       "      <th>test</th>\n",
       "    </tr>\n",
       "  </thead>\n",
       "  <tbody>\n",
       "    <tr>\n",
       "      <th>0</th>\n",
       "      <td>[0, 1, 2]</td>\n",
       "    </tr>\n",
       "  </tbody>\n",
       "</table>\n",
       "</div>"
      ],
      "text/plain": [
       "        test\n",
       "0  [0, 1, 2]"
      ]
     },
     "execution_count": 33,
     "metadata": {},
     "output_type": "execute_result"
    }
   ],
   "source": [
    "b = pd.DataFrame()\n",
    "b['test'] = a.nonzero()\n",
    "b\n"
   ]
  },
  {
   "cell_type": "code",
   "execution_count": 23,
   "id": "0d4dfeb0-7540-4ac0-9530-fd7e38d206b2",
   "metadata": {},
   "outputs": [
    {
     "name": "stdout",
     "output_type": "stream",
     "text": [
      "[[ 2]\n",
      " [ 6]\n",
      " [12]]\n"
     ]
    }
   ],
   "source": [
    "import numpy as np\n",
    "from scipy.sparse import csr_matrix\n",
    "\n",
    "# Create a sparse CSR matrix\n",
    "data = np.array([1, 2, 3])\n",
    "indices = np.array([0, 0, 0])\n",
    "indptr = np.array([0, 1, 2, 3])\n",
    "sparse_mat = csr_matrix((data, indices, indptr), shape=(3, 1))\n",
    "\n",
    "# Create a dense numpy array\n",
    "dense_arr = np.array([2, 3, 4])\n",
    "\n",
    "# Perform element-wise multiplication\n",
    "result = sparse_mat.multiply(dense_arr.reshape(-1, 1))\n",
    "\n",
    "print(result.toarray())"
   ]
  },
  {
   "cell_type": "code",
   "execution_count": 10,
   "id": "2a342484-4cb4-4cee-bb10-afcd185874ac",
   "metadata": {},
   "outputs": [
    {
     "ename": "ValueError",
     "evalue": "not enough values to unpack (expected 2, got 1)",
     "output_type": "error",
     "traceback": [
      "\u001b[1;31m---------------------------------------------------------------------------\u001b[0m",
      "\u001b[1;31mValueError\u001b[0m                                Traceback (most recent call last)",
      "Cell \u001b[1;32mIn[10], line 2\u001b[0m\n\u001b[0;32m      1\u001b[0m a \u001b[38;5;241m=\u001b[39m np\u001b[38;5;241m.\u001b[39marray([\u001b[38;5;241m1\u001b[39m, \u001b[38;5;241m0\u001b[39m, \u001b[38;5;241m0\u001b[39m, \u001b[38;5;241m3\u001b[39m, \u001b[38;5;241m0\u001b[39m, \u001b[38;5;241m4\u001b[39m])\n\u001b[1;32m----> 2\u001b[0m t1, _ \u001b[38;5;241m=\u001b[39m a\u001b[38;5;241m.\u001b[39mnonzero()\n",
      "\u001b[1;31mValueError\u001b[0m: not enough values to unpack (expected 2, got 1)"
     ]
    }
   ],
   "source": [
    "a = np.array([1, 0, 0, 3, 0, 4])\n",
    "t1, _ = a.nonzero()"
   ]
  },
  {
   "cell_type": "code",
   "execution_count": null,
   "id": "03da73eb-610b-4789-921c-565d99c4c7c7",
   "metadata": {},
   "outputs": [],
   "source": []
  }
 ],
 "metadata": {
  "kernelspec": {
   "display_name": "Python 3 (ipykernel)",
   "language": "python",
   "name": "python3"
  },
  "language_info": {
   "codemirror_mode": {
    "name": "ipython",
    "version": 3
   },
   "file_extension": ".py",
   "mimetype": "text/x-python",
   "name": "python",
   "nbconvert_exporter": "python",
   "pygments_lexer": "ipython3",
   "version": "3.9.12"
  }
 },
 "nbformat": 4,
 "nbformat_minor": 5
}
