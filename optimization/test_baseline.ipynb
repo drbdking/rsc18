{
 "cells": [
  {
   "cell_type": "code",
   "execution_count": 1,
   "id": "e9f74e18-1bde-4e4c-99ad-71283f9b13ca",
   "metadata": {},
   "outputs": [],
   "source": [
    "from utils import *\n",
    "from sknn_baseline import *\n",
    "import pandas as pd\n",
    "import numpy as np\n",
    "import time\n",
    "from scipy.sparse import csr_matrix\n",
    "from scipy.sparse.linalg import norm\n",
    "from tqdm import tqdm"
   ]
  },
  {
   "cell_type": "code",
   "execution_count": 2,
   "id": "3d2d3a9b-eb7a-4f59-9880-0fe0f7ac06ee",
   "metadata": {},
   "outputs": [
    {
     "name": "stdout",
     "output_type": "stream",
     "text": [
      "load_dataset\n",
      " -- loaded in: 3.388640880584717s\n",
      " -- filtered in: 14.60204553604126s\n",
      " -- actions:  66346428\n",
      " -- items:  2262292\n",
      " -- lists:  1000000\n"
     ]
    }
   ],
   "source": [
    "FOLDER_TRAIN = 'data/train/'\n",
    "FOLDER_TEST = 'data/test/'\n",
    "train, test = load_dataset(FOLDER_TRAIN, FOLDER_TEST, feather=True)"
   ]
  },
  {
   "cell_type": "code",
   "execution_count": 3,
   "id": "d353f5d5-171c-4f75-b710-e40839ca348f",
   "metadata": {},
   "outputs": [],
   "source": [
    "OUTPUT_FOLDER = 'output/'\n",
    "rec = SessionKNN(2000, 0, sampling='else', idf_weight=1, folder=OUTPUT_FOLDER)"
   ]
  },
  {
   "cell_type": "code",
   "execution_count": 4,
   "id": "2b660738-c82e-4a20-afec-fbdd83ce7b86",
   "metadata": {},
   "outputs": [
    {
     "name": "stdout",
     "output_type": "stream",
     "text": [
      "Mapping build time:  581.8928706645966\n",
      "IDF calculate time:  10.867799520492554\n",
      "Training Time: 592.7670795917511\n"
     ]
    }
   ],
   "source": [
    "start = time.time()\n",
    "rec.train(train, test)\n",
    "end = time.time()\n",
    "print('Training Time: {}'.format(end - start))"
   ]
  },
  {
   "cell_type": "code",
   "execution_count": 7,
   "id": "8344b694-7974-4328-8c7e-fc3642af9f1d",
   "metadata": {},
   "outputs": [
    {
     "name": "stderr",
     "output_type": "stream",
     "text": [
      "100%|████████████████████████████████████████████████████████████████████████████████| 100/100 [03:19<00:00,  2.00s/it]"
     ]
    },
    {
     "name": "stdout",
     "output_type": "stream",
     "text": [
      "Mean find neighbor time:  1.642568874359131\n",
      "Mean score item time:  0.20728793621063232\n",
      "Mean prediction time:  1.8523631000518799\n"
     ]
    },
    {
     "name": "stderr",
     "output_type": "stream",
     "text": [
      "\n"
     ]
    }
   ],
   "source": [
    "n = []\n",
    "s = []\n",
    "p = []\n",
    "pids = np.random.choice(train['playlists']['playlist_id'].values, 100)\n",
    "for pid in tqdm(pids):\n",
    "    name = train['playlists'][train['playlists']['playlist_id'] == pid]['name']\n",
    "    ntracks = train['playlists'][train['playlists']['playlist_id'] == pid]['num_tracks']\n",
    "    tracks = train['actions'][train['actions']['playlist_id']==pid]['track_id'].values\n",
    "    artist_ids = train['actions'][train['actions']['playlist_id']==pid]['artist_id'].values\n",
    "    start = time.time()\n",
    "    _, n_time, s_time = rec.predict(name, tracks, playlist_id=pid, artists=artist_ids)\n",
    "    end = time.time()\n",
    "    p.append(end - start)\n",
    "    n.append(n_time)\n",
    "    s.append(s_time)\n",
    "print('Mean find neighbor time: ', np.mean(n))\n",
    "print('Mean score item time: ', np.mean(s))\n",
    "print('Mean prediction time: ', np.mean(p))"
   ]
  },
  {
   "cell_type": "code",
   "execution_count": null,
   "id": "f54b812a-07f3-4ab4-b358-4b83cccb8ccb",
   "metadata": {},
   "outputs": [],
   "source": [
    "print(tracks)"
   ]
  },
  {
   "cell_type": "code",
   "execution_count": null,
   "id": "5cf6b4d6-dd64-4228-b236-03227502f185",
   "metadata": {},
   "outputs": [],
   "source": [
    "import time\n",
    "start = time.time()\n",
    "for i in range(5):\n",
    "    print(5)\n",
    "end = time.time()\n",
    "print(start)\n",
    "print(end)"
   ]
  },
  {
   "cell_type": "code",
   "execution_count": null,
   "id": "a704fba7-0d50-4d13-8d11-293cf41fce11",
   "metadata": {},
   "outputs": [],
   "source": [
    "a = set([1, 3, 4, 6, 8])\n",
    "b = set([1, 2, 3, 4, 5])\n",
    "a & b\n",
    "li = len(a & b)\n",
    "la = len(a)\n",
    "lb = len(b)\n",
    "li / ( sqrt(la) * sqrt(lb) )"
   ]
  },
  {
   "cell_type": "code",
   "execution_count": null,
   "id": "2b794971-43a7-4522-aff4-57148fce597c",
   "metadata": {},
   "outputs": [],
   "source": []
  },
  {
   "cell_type": "code",
   "execution_count": null,
   "id": "1647b3b9-053a-44c5-9bd0-0506743dd7de",
   "metadata": {},
   "outputs": [],
   "source": [
    "indptr = np.array([0, 2, 3, 6])\n",
    "indices = np.array([0, 2, 2, 0, 1, 2])\n",
    "data = np.array([1, 2, 3, 4, 5, 6])\n",
    "a = csr_matrix((data, indices, indptr), shape=(3, 3))\n",
    "# r,c = (a.sum(axis=0)).nonzero()\n",
    "# c"
   ]
  },
  {
   "cell_type": "code",
   "execution_count": null,
   "id": "acc21c61-c195-46c9-8763-edcd19115acd",
   "metadata": {},
   "outputs": [],
   "source": [
    "a.toarray()"
   ]
  },
  {
   "cell_type": "code",
   "execution_count": null,
   "id": "f3723ef4-1d5d-4016-b665-74829f38244f",
   "metadata": {},
   "outputs": [],
   "source": [
    "np.log(a.sum(axis=0))"
   ]
  },
  {
   "cell_type": "code",
   "execution_count": null,
   "id": "d4521e46-3be2-40aa-8eb3-35a34c3207e6",
   "metadata": {},
   "outputs": [],
   "source": [
    "csr_matrix.multiply(a, np.log(a.sum(axis=0))).toarray()"
   ]
  },
  {
   "cell_type": "code",
   "execution_count": null,
   "id": "af8a8184-5b61-4c63-ba9b-b27d3bdc7bca",
   "metadata": {},
   "outputs": [],
   "source": [
    "col = np.zeros(2)\n",
    "row = np.array([0, 1])\n",
    "data = np.ones(2)\n",
    "tracks_vector = csr_matrix((data, (row, col)), shape=(3, 1))\n",
    "tracks_vector.toarray()"
   ]
  },
  {
   "cell_type": "code",
   "execution_count": null,
   "id": "c0fe2482-f5d8-47d6-b6c6-d840fb79dd87",
   "metadata": {},
   "outputs": [],
   "source": [
    "norm(tracks_vector)"
   ]
  },
  {
   "cell_type": "code",
   "execution_count": null,
   "id": "37d8ea9f-663f-4134-9699-4aa260ac9337",
   "metadata": {},
   "outputs": [],
   "source": [
    "(a.dot(tracks_vector)).multiply(b)"
   ]
  },
  {
   "cell_type": "code",
   "execution_count": null,
   "id": "c56deb37-9232-40bf-873e-191c5bf4d2c4",
   "metadata": {},
   "outputs": [],
   "source": [
    "b = 1 / norm(a, axis=1)\n",
    "b"
   ]
  },
  {
   "cell_type": "code",
   "execution_count": null,
   "id": "789c21c6-fa1d-49cc-9846-049200c88179",
   "metadata": {},
   "outputs": [],
   "source": [
    "c = np.ones(3)\n",
    "d = csr_matrix.multiply(a, b)\n",
    "d.dot(c)"
   ]
  },
  {
   "cell_type": "code",
   "execution_count": null,
   "id": "cda150a9-d42b-43db-821b-96a60628a1b2",
   "metadata": {},
   "outputs": [],
   "source": [
    "d.toarray()"
   ]
  },
  {
   "cell_type": "code",
   "execution_count": null,
   "id": "51554d49-4e81-42be-adb4-5084f9db81d7",
   "metadata": {},
   "outputs": [],
   "source": [
    "b = np.array([[1], [2], [3]])\n",
    "csr_matrix.multiply(a, b).toarray()"
   ]
  },
  {
   "cell_type": "code",
   "execution_count": null,
   "id": "572b47ab-5513-4a3b-9b69-e9c2507dd2ff",
   "metadata": {},
   "outputs": [],
   "source": [
    "b"
   ]
  },
  {
   "cell_type": "code",
   "execution_count": null,
   "id": "5f161959-9e8f-46f2-b2cd-b1253e000835",
   "metadata": {},
   "outputs": [],
   "source": [
    "b = np.array([[1, 2, 3]])\n",
    "a.multiply(b.T)toarray()"
   ]
  },
  {
   "cell_type": "code",
   "execution_count": null,
   "id": "369304f6-e481-4296-b85a-1259e2dd7eca",
   "metadata": {},
   "outputs": [],
   "source": [
    "a.sum(axis=0).nonzero()"
   ]
  },
  {
   "cell_type": "code",
   "execution_count": null,
   "id": "c6e1d5f5-04dd-47c3-abbe-f9460ecaf7e7",
   "metadata": {},
   "outputs": [],
   "source": [
    "np.dot(indices, data)"
   ]
  },
  {
   "cell_type": "code",
   "execution_count": null,
   "id": "9712783a-a1f9-4e45-97c9-220cca1f217d",
   "metadata": {},
   "outputs": [],
   "source": [
    "indices.sum()"
   ]
  },
  {
   "cell_type": "code",
   "execution_count": null,
   "id": "def816cb-4792-4c65-81f6-e3b006ad0bbc",
   "metadata": {},
   "outputs": [],
   "source": [
    "a = np.array([1, 2, 3, 3])\n",
    "np.unique(a)"
   ]
  },
  {
   "cell_type": "code",
   "execution_count": null,
   "id": "f0f2165a-f028-4b26-b459-114f59cb9380",
   "metadata": {},
   "outputs": [],
   "source": [
    "b = pd.DataFrame()\n",
    "b['test'] = a.nonzero()\n",
    "b\n"
   ]
  },
  {
   "cell_type": "code",
   "execution_count": null,
   "id": "0d4dfeb0-7540-4ac0-9530-fd7e38d206b2",
   "metadata": {},
   "outputs": [],
   "source": [
    "import numpy as np\n",
    "from scipy.sparse import csr_matrix\n",
    "\n",
    "# Create a sparse CSR matrix\n",
    "data = np.array([1, 2, 3])\n",
    "indices = np.array([0, 0, 0])\n",
    "indptr = np.array([0, 1, 2, 3])\n",
    "sparse_mat = csr_matrix((data, indices, indptr), shape=(3, 1))\n",
    "\n",
    "# Create a dense numpy array\n",
    "dense_arr = np.array([2, 3, 4])\n",
    "\n",
    "# Perform element-wise multiplication\n",
    "result = sparse_mat.multiply(dense_arr.reshape(-1, 1))\n",
    "\n",
    "print(result.toarray())"
   ]
  },
  {
   "cell_type": "code",
   "execution_count": null,
   "id": "2a342484-4cb4-4cee-bb10-afcd185874ac",
   "metadata": {},
   "outputs": [],
   "source": [
    "a = np.array([1, 0, 0, 3, 0, 4])\n",
    "t1, _ = a.nonzero()"
   ]
  },
  {
   "cell_type": "code",
   "execution_count": null,
   "id": "03da73eb-610b-4789-921c-565d99c4c7c7",
   "metadata": {},
   "outputs": [],
   "source": []
  }
 ],
 "metadata": {
  "kernelspec": {
   "display_name": "Python 3 (ipykernel)",
   "language": "python",
   "name": "python3"
  },
  "language_info": {
   "codemirror_mode": {
    "name": "ipython",
    "version": 3
   },
   "file_extension": ".py",
   "mimetype": "text/x-python",
   "name": "python",
   "nbconvert_exporter": "python",
   "pygments_lexer": "ipython3",
   "version": "3.9.12"
  }
 },
 "nbformat": 4,
 "nbformat_minor": 5
}
