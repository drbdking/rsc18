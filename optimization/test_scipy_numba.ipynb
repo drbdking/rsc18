{
 "cells": [
  {
   "cell_type": "code",
   "execution_count": 1,
   "id": "9f89720b-9777-4c82-ac5e-d4ade14b4f8e",
   "metadata": {},
   "outputs": [],
   "source": [
    "from utils import *\n",
    "from sknn_scipy_numba import *\n",
    "import pandas as pd\n",
    "import numpy as np\n",
    "import time\n",
    "from scipy.sparse import csr_matrix\n",
    "from scipy.sparse.linalg import norm\n",
    "from tqdm import tqdm"
   ]
  },
  {
   "cell_type": "code",
   "execution_count": 2,
   "id": "4b0acedb-380c-40a4-9391-99885e477d4e",
   "metadata": {},
   "outputs": [
    {
     "name": "stdout",
     "output_type": "stream",
     "text": [
      "load_dataset\n",
      " -- loaded in: 1.901073932647705s\n",
      " -- filtered in: 3.137479066848755s\n",
      " -- actions:  6677800\n",
      " -- items:  681805\n",
      " -- lists:  100000\n"
     ]
    }
   ],
   "source": [
    "FOLDER_TRAIN = 'data/train/'\n",
    "FOLDER_TEST = 'data/test/'\n",
    "train, test = load_dataset(FOLDER_TRAIN, FOLDER_TEST, feather=True)"
   ]
  },
  {
   "cell_type": "code",
   "execution_count": 3,
   "id": "65547ab7-dabf-498f-8394-ffcab9ca49f1",
   "metadata": {},
   "outputs": [],
   "source": [
    "OUTPUT_FOLDER = 'output/'\n",
    "rec = SessionKNN(2000, 0, sampling='else', idf_weight=1, folder=OUTPUT_FOLDER)"
   ]
  },
  {
   "cell_type": "code",
   "execution_count": 4,
   "id": "cc495b78-ac22-4efe-9665-b0a1d8e0a3aa",
   "metadata": {},
   "outputs": [
    {
     "name": "stdout",
     "output_type": "stream",
     "text": [
      "Matrix build time:  1.1277639865875244\n",
      "IDF calculate time:  0.04849958419799805\n",
      "Training Time: 1.1832621097564697\n"
     ]
    }
   ],
   "source": [
    "start = time.time()\n",
    "rec.train(train, test)\n",
    "end = time.time()\n",
    "print('Training Time: {}'.format(end - start))"
   ]
  },
  {
   "cell_type": "code",
   "execution_count": 7,
   "id": "dff077fc-850f-42e0-8b39-277970d3c835",
   "metadata": {},
   "outputs": [
    {
     "name": "stderr",
     "output_type": "stream",
     "text": [
      "100%|████████████████████████████████████████████████████████████████████████████████| 100/100 [01:02<00:00,  1.61it/s]"
     ]
    },
    {
     "name": "stdout",
     "output_type": "stream",
     "text": [
      "Mean find neighbor time:  0.44128630638122557\n",
      "Mean score item time:  0.045628793239593506\n",
      "Mean prediction time:  0.48809794187545774\n"
     ]
    },
    {
     "name": "stderr",
     "output_type": "stream",
     "text": [
      "\n"
     ]
    }
   ],
   "source": [
    "n = []\n",
    "s = []\n",
    "p = []\n",
    "pids = np.random.choice(train['playlists']['playlist_id'].values, 100)\n",
    "for pid in tqdm(pids):\n",
    "    name = train['playlists'][train['playlists']['playlist_id'] == pid]['name']\n",
    "    ntracks = train['playlists'][train['playlists']['playlist_id'] == pid]['num_tracks']\n",
    "    tracks = train['actions'][train['actions']['playlist_id']==pid]['track_id'].values\n",
    "    artist_ids = train['actions'][train['actions']['playlist_id']==pid]['artist_id'].values\n",
    "    start = time.time()\n",
    "    _, n_time, s_time = rec.predict(name, tracks, playlist_id=pid, artists=artist_ids)\n",
    "    end = time.time()\n",
    "    p.append(end - start)\n",
    "    n.append(n_time)\n",
    "    s.append(s_time)\n",
    "print('Mean find neighbor time: ', np.mean(n))\n",
    "print('Mean score item time: ', np.mean(s))\n",
    "print('Mean prediction time: ', np.mean(p))"
   ]
  },
  {
   "cell_type": "code",
   "execution_count": null,
   "id": "889cae9f-30bc-43bf-a30b-382df2f31829",
   "metadata": {},
   "outputs": [],
   "source": []
  }
 ],
 "metadata": {
  "kernelspec": {
   "display_name": "Python 3 (ipykernel)",
   "language": "python",
   "name": "python3"
  },
  "language_info": {
   "codemirror_mode": {
    "name": "ipython",
    "version": 3
   },
   "file_extension": ".py",
   "mimetype": "text/x-python",
   "name": "python",
   "nbconvert_exporter": "python",
   "pygments_lexer": "ipython3",
   "version": "3.9.12"
  }
 },
 "nbformat": 4,
 "nbformat_minor": 5
}
