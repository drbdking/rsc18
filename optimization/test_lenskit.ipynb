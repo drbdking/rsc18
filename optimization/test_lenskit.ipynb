{
 "cells": [
  {
   "cell_type": "code",
   "execution_count": 1,
   "id": "a148b642-099a-44cf-877e-a09883a70dcf",
   "metadata": {},
   "outputs": [],
   "source": [
    "from utils import *\n",
    "from sknn_lenskit import *\n",
    "import pandas as pd\n",
    "import numpy as np\n",
    "import time\n",
    "from scipy.sparse import csr_matrix\n",
    "from scipy.sparse.linalg import norm\n",
    "from tqdm import tqdm"
   ]
  },
  {
   "cell_type": "code",
   "execution_count": 2,
   "id": "4fa6a07f-fe32-4195-8f27-232c3210b26f",
   "metadata": {},
   "outputs": [
    {
     "name": "stdout",
     "output_type": "stream",
     "text": [
      "load_dataset\n",
      " -- loaded in: 0.562955379486084s\n",
      " -- filtered in: 0.8627009391784668s\n",
      " -- actions:  3344374\n",
      " -- items:  461880\n",
      " -- lists:  50000\n"
     ]
    }
   ],
   "source": [
    "FOLDER_TRAIN = 'data/train/'\n",
    "FOLDER_TEST = 'data/test/'\n",
    "train, test = load_dataset(FOLDER_TRAIN, FOLDER_TEST, feather=True)"
   ]
  },
  {
   "cell_type": "code",
   "execution_count": 3,
   "id": "15eacffc-cda4-4638-b715-fcc29941621d",
   "metadata": {},
   "outputs": [
    {
     "name": "stderr",
     "output_type": "stream",
     "text": [
      "C:\\Users\\nanic\\AppData\\Local\\Temp\\ipykernel_5000\\493546403.py:2: SettingWithCopyWarning: \n",
      "A value is trying to be set on a copy of a slice from a DataFrame.\n",
      "Try using .loc[row_indexer,col_indexer] = value instead\n",
      "\n",
      "See the caveats in the documentation: https://pandas.pydata.org/pandas-docs/stable/user_guide/indexing.html#returning-a-view-versus-a-copy\n",
      "  df['track_id'] -= 1\n",
      "C:\\Users\\nanic\\AppData\\Local\\Temp\\ipykernel_5000\\493546403.py:3: SettingWithCopyWarning: \n",
      "A value is trying to be set on a copy of a slice from a DataFrame.\n",
      "Try using .loc[row_indexer,col_indexer] = value instead\n",
      "\n",
      "See the caveats in the documentation: https://pandas.pydata.org/pandas-docs/stable/user_guide/indexing.html#returning-a-view-versus-a-copy\n",
      "  df['rating'] = np.ones(df.shape[0])\n"
     ]
    }
   ],
   "source": [
    "df = train['actions'][['playlist_id', 'track_id']]\n",
    "df['track_id'] -= 1\n",
    "df['rating'] = np.ones(df.shape[0])\n",
    "df = df.rename(columns={\"playlist_id\": \"user\", \"track_id\": \"item\"})"
   ]
  },
  {
   "cell_type": "code",
   "execution_count": 4,
   "id": "48b55bc6-1d75-4d5e-b98d-ca585fd59465",
   "metadata": {},
   "outputs": [],
   "source": [
    "rec = UserUser(2000, feedback='implicit')"
   ]
  },
  {
   "cell_type": "code",
   "execution_count": 5,
   "id": "c9df36ce-8f8d-465d-89da-a5fa35d62464",
   "metadata": {},
   "outputs": [
    {
     "name": "stdout",
     "output_type": "stream",
     "text": [
      "Mapping build time:  0.7815060615539551\n",
      "IDF calculate time:  0.3339078426361084\n",
      "Training Time: 2.2486817836761475\n"
     ]
    }
   ],
   "source": [
    "start = time.time()\n",
    "rec = rec.fit(df)\n",
    "end = time.time()\n",
    "print('Training Time: {}'.format(end - start))"
   ]
  },
  {
   "cell_type": "code",
   "execution_count": 7,
   "id": "eac1afab-c99c-4fc4-a289-c42176eaecaa",
   "metadata": {},
   "outputs": [
    {
     "name": "stderr",
     "output_type": "stream",
     "text": [
      "100%|████████████████████████████████████████████████████████████████████████████████| 100/100 [00:07<00:00, 13.13it/s]"
     ]
    },
    {
     "name": "stdout",
     "output_type": "stream",
     "text": [
      "Mean find neighbor time:  0.025426249504089355\n",
      "Mean score item time:  0.04332418918609619\n",
      "Mean prediction time:  0.07554686307907105\n"
     ]
    },
    {
     "name": "stderr",
     "output_type": "stream",
     "text": [
      "\n"
     ]
    }
   ],
   "source": [
    "n = []\n",
    "s = []\n",
    "p = []\n",
    "pids = np.random.choice(train['playlists']['playlist_id'].values, 100)\n",
    "items = np.unique(df['item'].values)\n",
    "for pid in tqdm(pids):\n",
    "    start = time.time()\n",
    "    _, n_time, s_time = rec.predict_for_user(pid, items)\n",
    "    end = time.time()\n",
    "    p.append(end - start)\n",
    "    n.append(n_time)\n",
    "    s.append(s_time)\n",
    "print('Mean find neighbor time: ', np.mean(n))\n",
    "print('Mean score item time: ', np.mean(s))\n",
    "print('Mean prediction time: ', np.mean(p))"
   ]
  },
  {
   "cell_type": "code",
   "execution_count": null,
   "id": "40f1ca1e-77f2-4d92-abfd-9801f84c59a7",
   "metadata": {},
   "outputs": [],
   "source": []
  }
 ],
 "metadata": {
  "kernelspec": {
   "display_name": "Python 3 (ipykernel)",
   "language": "python",
   "name": "python3"
  },
  "language_info": {
   "codemirror_mode": {
    "name": "ipython",
    "version": 3
   },
   "file_extension": ".py",
   "mimetype": "text/x-python",
   "name": "python",
   "nbconvert_exporter": "python",
   "pygments_lexer": "ipython3",
   "version": "3.9.12"
  }
 },
 "nbformat": 4,
 "nbformat_minor": 5
}
