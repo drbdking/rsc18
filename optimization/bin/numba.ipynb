{
 "cells": [
  {
   "cell_type": "code",
   "execution_count": 1,
   "id": "fe5303ba-dade-43b6-b745-0b62a268f4ec",
   "metadata": {},
   "outputs": [],
   "source": [
    "from utils import *\n",
    "from sknn_sparse_matrix_numba import *\n",
    "import pandas as pd\n",
    "import numpy as np\n",
    "import time\n",
    "from scipy.sparse import csr_matrix\n",
    "from scipy.sparse.linalg import norm\n",
    "from tqdm import tqdm"
   ]
  },
  {
   "cell_type": "code",
   "execution_count": 2,
   "id": "065dde5d-10ab-43b1-9b8b-77577a35ddfe",
   "metadata": {},
   "outputs": [
    {
     "name": "stdout",
     "output_type": "stream",
     "text": [
      "load_dataset\n",
      " -- loaded in: 0.8099935054779053s\n",
      " -- filtered in: 1.3749723434448242s\n",
      " -- actions:  6677800\n",
      " -- items:  681805\n",
      " -- lists:  100000\n"
     ]
    }
   ],
   "source": [
    "FOLDER_TRAIN = 'data/train/'\n",
    "FOLDER_TEST = 'data/test/'\n",
    "train, test = load_dataset(FOLDER_TRAIN, FOLDER_TEST, feather=True)"
   ]
  },
  {
   "cell_type": "code",
   "execution_count": 3,
   "id": "f15f73f6-1f44-4283-9f35-23563276841d",
   "metadata": {},
   "outputs": [
    {
     "name": "stderr",
     "output_type": "stream",
     "text": [
      "C:\\Users\\nanic\\AppData\\Local\\Temp\\ipykernel_13272\\493546403.py:2: SettingWithCopyWarning: \n",
      "A value is trying to be set on a copy of a slice from a DataFrame.\n",
      "Try using .loc[row_indexer,col_indexer] = value instead\n",
      "\n",
      "See the caveats in the documentation: https://pandas.pydata.org/pandas-docs/stable/user_guide/indexing.html#returning-a-view-versus-a-copy\n",
      "  df['track_id'] -= 1\n",
      "C:\\Users\\nanic\\AppData\\Local\\Temp\\ipykernel_13272\\493546403.py:3: SettingWithCopyWarning: \n",
      "A value is trying to be set on a copy of a slice from a DataFrame.\n",
      "Try using .loc[row_indexer,col_indexer] = value instead\n",
      "\n",
      "See the caveats in the documentation: https://pandas.pydata.org/pandas-docs/stable/user_guide/indexing.html#returning-a-view-versus-a-copy\n",
      "  df['rating'] = np.ones(df.shape[0])\n"
     ]
    }
   ],
   "source": [
    "df = train['actions'][['playlist_id', 'track_id']]\n",
    "df['track_id'] -= 1\n",
    "df['rating'] = np.ones(df.shape[0])\n",
    "df = df.rename(columns={\"playlist_id\": \"user\", \"track_id\": \"item\"})"
   ]
  },
  {
   "cell_type": "code",
   "execution_count": 4,
   "id": "d3f216bc-472e-4f9d-b4f4-739948eff221",
   "metadata": {},
   "outputs": [],
   "source": [
    "rec = UserUser(2000, feedback='implicit')"
   ]
  },
  {
   "cell_type": "code",
   "execution_count": 5,
   "id": "54f31241-95c5-4c5d-a757-81a5a04a39e0",
   "metadata": {},
   "outputs": [
    {
     "name": "stdout",
     "output_type": "stream",
     "text": [
      "Mapping build time:  1.0700881481170654\n",
      "Training Time: 2.3020172119140625\n"
     ]
    }
   ],
   "source": [
    "start = time.time()\n",
    "rec = rec.fit(df)\n",
    "end = time.time()\n",
    "print('Training Time: {}'.format(end - start))"
   ]
  },
  {
   "cell_type": "code",
   "execution_count": 6,
   "id": "0f854427-ea2d-4d2d-915e-95958aa7523a",
   "metadata": {},
   "outputs": [
    {
     "name": "stderr",
     "output_type": "stream",
     "text": [
      "100%|██████████████████████████████████████████████████████████████████████████████████| 10/10 [01:10<00:00,  7.06s/it]"
     ]
    },
    {
     "name": "stdout",
     "output_type": "stream",
     "text": [
      "Mean find neighbor time:  0.046883654594421384\n",
      "Mean score item time:  6.62051248550415\n",
      "Mean prediction time:  7.060955619812011\n"
     ]
    },
    {
     "name": "stderr",
     "output_type": "stream",
     "text": [
      "\n"
     ]
    }
   ],
   "source": [
    "n = []\n",
    "s = []\n",
    "p = []\n",
    "pids = np.random.choice(train['playlists']['playlist_id'].values, 10)\n",
    "for pid in tqdm(pids):\n",
    "    start = time.time()\n",
    "    _, n_time, s_time = rec.predict_for_user(pid, np.unique(df['item'].values))\n",
    "    end = time.time()\n",
    "    p.append(end - start)\n",
    "    n.append(n_time)\n",
    "    s.append(s_time)\n",
    "print('Mean find neighbor time: ', np.mean(n))\n",
    "print('Mean score item time: ', np.mean(s))\n",
    "print('Mean prediction time: ', np.mean(p))"
   ]
  },
  {
   "cell_type": "code",
   "execution_count": null,
   "id": "e3b0b8b8-de01-4b73-afbf-bda52affecd5",
   "metadata": {},
   "outputs": [],
   "source": []
  }
 ],
 "metadata": {
  "kernelspec": {
   "display_name": "Python 3 (ipykernel)",
   "language": "python",
   "name": "python3"
  },
  "language_info": {
   "codemirror_mode": {
    "name": "ipython",
    "version": 3
   },
   "file_extension": ".py",
   "mimetype": "text/x-python",
   "name": "python",
   "nbconvert_exporter": "python",
   "pygments_lexer": "ipython3",
   "version": "3.9.12"
  }
 },
 "nbformat": 4,
 "nbformat_minor": 5
}
