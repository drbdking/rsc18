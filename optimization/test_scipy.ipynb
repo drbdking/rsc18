{
 "cells": [
  {
   "cell_type": "code",
   "execution_count": 1,
   "id": "9cc603f4-56d2-4835-8833-9b0c00dd6e91",
   "metadata": {},
   "outputs": [],
   "source": [
    "from utils import *\n",
    "from sknn_scipy import *\n",
    "import pandas as pd\n",
    "import numpy as np\n",
    "import time\n",
    "from scipy.sparse import csr_matrix\n",
    "from scipy.sparse.linalg import norm\n",
    "from tqdm import tqdm"
   ]
  },
  {
   "cell_type": "code",
   "execution_count": 2,
   "id": "841d231e-33e1-41cd-a14e-371dddff8e06",
   "metadata": {},
   "outputs": [
    {
     "name": "stdout",
     "output_type": "stream",
     "text": [
      "load_dataset\n",
      " -- loaded in: 2.976196527481079s\n",
      " -- filtered in: 11.245805025100708s\n",
      " -- actions:  66346428\n",
      " -- items:  2262292\n",
      " -- lists:  1000000\n"
     ]
    }
   ],
   "source": [
    "FOLDER_TRAIN = 'data/train/'\n",
    "FOLDER_TEST = 'data/test/'\n",
    "train, test = load_dataset(FOLDER_TRAIN, FOLDER_TEST, feather=True)"
   ]
  },
  {
   "cell_type": "code",
   "execution_count": 3,
   "id": "86373af1-4df9-475f-a805-d3432d315b6a",
   "metadata": {},
   "outputs": [],
   "source": [
    "OUTPUT_FOLDER = 'output/'\n",
    "rec = SessionKNN(2000, 0, sampling='else', idf_weight=1, folder=OUTPUT_FOLDER)"
   ]
  },
  {
   "cell_type": "code",
   "execution_count": 4,
   "id": "2a795a1f-c54b-4ff3-847a-ef34e7ec7ee3",
   "metadata": {},
   "outputs": [
    {
     "name": "stdout",
     "output_type": "stream",
     "text": [
      "Matrix build time:  12.622575044631958\n",
      "IDF calculate time:  0.36583971977233887\n",
      "Training Time: 13.069051742553711\n"
     ]
    }
   ],
   "source": [
    "start = time.time()\n",
    "rec.train(train, test)\n",
    "end = time.time()\n",
    "print('Training Time: {}'.format(end - start))"
   ]
  },
  {
   "cell_type": "code",
   "execution_count": 5,
   "id": "b0324eb5-ef7a-4f3a-8f93-aef67b42c39d",
   "metadata": {},
   "outputs": [
    {
     "name": "stderr",
     "output_type": "stream",
     "text": [
      "100%|████████████████████████████████████████████████████████████████████████████████| 100/100 [00:59<00:00,  1.67it/s]"
     ]
    },
    {
     "name": "stdout",
     "output_type": "stream",
     "text": [
      "Mean find neighbor time:  0.4181516695022583\n",
      "Mean score item time:  0.05046917915344238\n",
      "Mean prediction time:  0.46971851110458374\n"
     ]
    },
    {
     "name": "stderr",
     "output_type": "stream",
     "text": [
      "\n"
     ]
    }
   ],
   "source": [
    "n = []\n",
    "s = []\n",
    "p = []\n",
    "pids = np.random.choice(train['playlists']['playlist_id'].values, 100)\n",
    "for pid in tqdm(pids):\n",
    "    name = train['playlists'][train['playlists']['playlist_id'] == pid]['name']\n",
    "    ntracks = train['playlists'][train['playlists']['playlist_id'] == pid]['num_tracks']\n",
    "    tracks = train['actions'][train['actions']['playlist_id']==pid]['track_id'].values\n",
    "    artist_ids = train['actions'][train['actions']['playlist_id']==pid]['artist_id'].values\n",
    "    start = time.time()\n",
    "    _, n_time, s_time = rec.predict(name, tracks, playlist_id=pid, artists=artist_ids)\n",
    "    end = time.time()\n",
    "    p.append(end - start)\n",
    "    n.append(n_time)\n",
    "    s.append(s_time)\n",
    "print('Mean find neighbor time: ', np.mean(n))\n",
    "print('Mean score item time: ', np.mean(s))\n",
    "print('Mean prediction time: ', np.mean(p))"
   ]
  }
 ],
 "metadata": {
  "kernelspec": {
   "display_name": "Python 3 (ipykernel)",
   "language": "python",
   "name": "python3"
  },
  "language_info": {
   "codemirror_mode": {
    "name": "ipython",
    "version": 3
   },
   "file_extension": ".py",
   "mimetype": "text/x-python",
   "name": "python",
   "nbconvert_exporter": "python",
   "pygments_lexer": "ipython3",
   "version": "3.9.12"
  }
 },
 "nbformat": 4,
 "nbformat_minor": 5
}
